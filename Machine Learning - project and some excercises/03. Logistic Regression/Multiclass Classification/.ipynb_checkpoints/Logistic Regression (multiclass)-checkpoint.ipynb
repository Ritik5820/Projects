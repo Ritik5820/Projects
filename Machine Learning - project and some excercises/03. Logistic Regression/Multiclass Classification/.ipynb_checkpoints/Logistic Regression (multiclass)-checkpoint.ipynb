{
 "cells": [
  {
   "cell_type": "code",
   "execution_count": 1,
   "id": "8b56ac14",
   "metadata": {},
   "outputs": [],
   "source": [
    "import numpy as np\n",
    "import pandas as pd\n",
    "from sklearn import datasets"
   ]
  },
  {
   "cell_type": "code",
   "execution_count": 2,
   "id": "e96e631b",
   "metadata": {},
   "outputs": [],
   "source": [
    "iris = datasets.load_iris()"
   ]
  },
  {
   "cell_type": "code",
   "execution_count": 3,
   "id": "5acc4690",
   "metadata": {},
   "outputs": [
    {
     "name": "stdout",
     "output_type": "stream",
     "text": [
      "dict_keys(['data', 'target', 'frame', 'target_names', 'DESCR', 'feature_names', 'filename'])\n"
     ]
    }
   ],
   "source": [
    "print(iris.keys())"
   ]
  },
  {
   "cell_type": "code",
   "execution_count": 4,
   "id": "f06713b4",
   "metadata": {},
   "outputs": [],
   "source": [
    "from sklearn.model_selection import train_test_split"
   ]
  },
  {
   "cell_type": "code",
   "execution_count": 5,
   "id": "e55c2e86",
   "metadata": {},
   "outputs": [],
   "source": [
    "x_train,x_test,y_train,y_test = train_test_split(iris[\"data\"],iris[\"target\"],test_size=0.3)"
   ]
  },
  {
   "cell_type": "code",
   "execution_count": 6,
   "id": "abe86607",
   "metadata": {},
   "outputs": [
    {
     "name": "stdout",
     "output_type": "stream",
     "text": [
      "[[5.  3.4 1.6 0.4]\n",
      " [5.4 3.9 1.7 0.4]\n",
      " [6.8 2.8 4.8 1.4]\n",
      " [6.2 3.4 5.4 2.3]\n",
      " [5.1 3.5 1.4 0.2]\n",
      " [4.9 2.5 4.5 1.7]\n",
      " [5.7 2.5 5.  2. ]\n",
      " [6.6 2.9 4.6 1.3]\n",
      " [5.6 2.7 4.2 1.3]\n",
      " [6.7 3.1 4.4 1.4]\n",
      " [6.4 2.8 5.6 2.1]\n",
      " [5.2 4.1 1.5 0.1]\n",
      " [6.7 3.  5.  1.7]\n",
      " [5.  3.2 1.2 0.2]\n",
      " [5.9 3.  4.2 1.5]\n",
      " [5.2 2.7 3.9 1.4]\n",
      " [4.8 3.  1.4 0.1]\n",
      " [7.9 3.8 6.4 2. ]\n",
      " [6.  3.  4.8 1.8]\n",
      " [7.2 3.2 6.  1.8]\n",
      " [6.5 3.  5.8 2.2]\n",
      " [7.6 3.  6.6 2.1]\n",
      " [6.1 2.9 4.7 1.4]\n",
      " [4.8 3.4 1.6 0.2]\n",
      " [5.6 2.5 3.9 1.1]\n",
      " [4.7 3.2 1.3 0.2]\n",
      " [5.7 3.8 1.7 0.3]\n",
      " [6.5 3.  5.5 1.8]\n",
      " [5.5 2.4 3.7 1. ]\n",
      " [5.7 2.6 3.5 1. ]\n",
      " [5.  3.5 1.3 0.3]\n",
      " [6.3 3.3 4.7 1.6]\n",
      " [5.7 4.4 1.5 0.4]\n",
      " [6.5 3.2 5.1 2. ]\n",
      " [6.1 2.8 4.7 1.2]\n",
      " [5.5 2.4 3.8 1.1]\n",
      " [6.4 3.2 5.3 2.3]\n",
      " [4.9 3.1 1.5 0.2]\n",
      " [6.9 3.1 4.9 1.5]\n",
      " [7.1 3.  5.9 2.1]\n",
      " [5.  3.3 1.4 0.2]\n",
      " [5.6 3.  4.5 1.5]\n",
      " [5.7 2.8 4.1 1.3]\n",
      " [7.  3.2 4.7 1.4]\n",
      " [6.7 3.1 5.6 2.4]\n",
      " [6.4 2.7 5.3 1.9]\n",
      " [5.6 3.  4.1 1.3]\n",
      " [7.7 3.8 6.7 2.2]\n",
      " [6.1 2.6 5.6 1.4]\n",
      " [7.2 3.  5.8 1.6]\n",
      " [6.3 2.5 4.9 1.5]\n",
      " [6.9 3.1 5.1 2.3]\n",
      " [5.5 3.5 1.3 0.2]\n",
      " [4.4 3.2 1.3 0.2]\n",
      " [6.5 3.  5.2 2. ]\n",
      " [6.  2.2 5.  1.5]\n",
      " [6.4 2.9 4.3 1.3]\n",
      " [4.8 3.4 1.9 0.2]\n",
      " [6.7 3.  5.2 2.3]\n",
      " [6.3 2.8 5.1 1.5]\n",
      " [6.7 2.5 5.8 1.8]\n",
      " [4.9 3.1 1.5 0.1]\n",
      " [4.4 3.  1.3 0.2]\n",
      " [6.9 3.2 5.7 2.3]\n",
      " [6.3 3.4 5.6 2.4]\n",
      " [5.1 3.8 1.5 0.3]\n",
      " [6.3 2.7 4.9 1.8]\n",
      " [5.7 2.9 4.2 1.3]\n",
      " [6.  2.2 4.  1. ]\n",
      " [6.3 3.3 6.  2.5]\n",
      " [5.8 2.7 5.1 1.9]\n",
      " [5.5 2.5 4.  1.3]\n",
      " [5.1 3.3 1.7 0.5]\n",
      " [7.7 2.8 6.7 2. ]\n",
      " [4.9 2.4 3.3 1. ]\n",
      " [5.7 3.  4.2 1.2]\n",
      " [5.8 2.7 5.1 1.9]\n",
      " [5.3 3.7 1.5 0.2]\n",
      " [7.2 3.6 6.1 2.5]\n",
      " [5.2 3.5 1.5 0.2]\n",
      " [4.5 2.3 1.3 0.3]\n",
      " [6.  3.4 4.5 1.6]\n",
      " [5.8 4.  1.2 0.2]\n",
      " [4.6 3.6 1.  0.2]\n",
      " [5.  2.3 3.3 1. ]\n",
      " [5.6 2.9 3.6 1.3]\n",
      " [5.1 3.7 1.5 0.4]\n",
      " [5.7 2.8 4.5 1.3]\n",
      " [5.1 3.8 1.9 0.4]\n",
      " [5.1 3.8 1.6 0.2]\n",
      " [5.8 2.7 4.1 1. ]\n",
      " [6.5 2.8 4.6 1.5]\n",
      " [6.7 3.3 5.7 2.1]\n",
      " [5.4 3.4 1.7 0.2]\n",
      " [6.4 2.8 5.6 2.2]\n",
      " [6.8 3.2 5.9 2.3]\n",
      " [6.3 2.9 5.6 1.8]\n",
      " [6.1 3.  4.6 1.4]\n",
      " [6.4 3.1 5.5 1.8]\n",
      " [6.3 2.3 4.4 1.3]\n",
      " [4.9 3.6 1.4 0.1]\n",
      " [5.  2.  3.5 1. ]\n",
      " [5.4 3.  4.5 1.5]\n",
      " [5.6 2.8 4.9 2. ]\n",
      " [6.7 3.1 4.7 1.5]]\n"
     ]
    }
   ],
   "source": [
    "print(x_train)"
   ]
  },
  {
   "cell_type": "code",
   "execution_count": 7,
   "id": "ba873fe9",
   "metadata": {},
   "outputs": [
    {
     "name": "stdout",
     "output_type": "stream",
     "text": [
      "[0 0 1 2 0 2 2 1 1 1 2 0 1 0 1 1 0 2 2 2 2 2 1 0 1 0 0 2 1 1 0 1 0 2 1 1 2\n",
      " 0 1 2 0 1 1 1 2 2 1 2 2 2 1 2 0 0 2 2 1 0 2 2 2 0 0 2 2 0 2 1 1 2 2 1 0 2\n",
      " 1 1 2 0 2 0 0 1 0 0 1 1 0 1 0 0 1 1 2 0 2 2 2 1 2 1 0 1 1 2 1]\n"
     ]
    }
   ],
   "source": [
    "print(y_train)"
   ]
  },
  {
   "cell_type": "code",
   "execution_count": 8,
   "id": "a428de66",
   "metadata": {},
   "outputs": [],
   "source": [
    "from sklearn.linear_model import LogisticRegression"
   ]
  },
  {
   "cell_type": "code",
   "execution_count": 9,
   "id": "f8f1cf85",
   "metadata": {},
   "outputs": [],
   "source": [
    "model = LogisticRegression()"
   ]
  },
  {
   "cell_type": "code",
   "execution_count": 10,
   "id": "d985f801",
   "metadata": {},
   "outputs": [
    {
     "data": {
      "text/plain": [
       "LogisticRegression()"
      ]
     },
     "execution_count": 10,
     "metadata": {},
     "output_type": "execute_result"
    }
   ],
   "source": [
    "model.fit(x_train,y_train)"
   ]
  },
  {
   "cell_type": "code",
   "execution_count": 11,
   "id": "38a3c2b6",
   "metadata": {},
   "outputs": [
    {
     "name": "stdout",
     "output_type": "stream",
     "text": [
      "[0 0 0 2 2 0 0 1 0 2 0 0 0 1 2 1 2 2 0 0 1 1 2 0 0 0 1 0 0 1 1 0 0 2 1 2 2\n",
      " 0 2 1 2 2 1 2 0]\n"
     ]
    }
   ],
   "source": [
    "print(model.predict(x_test))"
   ]
  },
  {
   "cell_type": "code",
   "execution_count": 12,
   "id": "e0d0fc94",
   "metadata": {},
   "outputs": [
    {
     "name": "stdout",
     "output_type": "stream",
     "text": [
      "0.9555555555555556\n"
     ]
    }
   ],
   "source": [
    "print(model.score(x_test,y_test))"
   ]
  },
  {
   "cell_type": "code",
   "execution_count": null,
   "id": "97aa06d9",
   "metadata": {},
   "outputs": [],
   "source": []
  }
 ],
 "metadata": {
  "kernelspec": {
   "display_name": "Python 3 (ipykernel)",
   "language": "python",
   "name": "python3"
  },
  "language_info": {
   "codemirror_mode": {
    "name": "ipython",
    "version": 3
   },
   "file_extension": ".py",
   "mimetype": "text/x-python",
   "name": "python",
   "nbconvert_exporter": "python",
   "pygments_lexer": "ipython3",
   "version": "3.9.7"
  }
 },
 "nbformat": 4,
 "nbformat_minor": 5
}
