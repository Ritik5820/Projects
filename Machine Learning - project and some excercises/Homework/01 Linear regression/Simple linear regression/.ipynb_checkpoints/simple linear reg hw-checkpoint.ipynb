{
 "cells": [
  {
   "cell_type": "markdown",
   "id": "3e1a2b6e",
   "metadata": {},
   "source": [
    "# Ques: Predict canada's per capita income in 2020 with the help of given csv file\n",
    "# Correct ans : 41288"
   ]
  },
  {
   "cell_type": "code",
   "execution_count": 3,
   "id": "16bbda08",
   "metadata": {},
   "outputs": [],
   "source": [
    "import numpy as np\n",
    "import pandas as pd\n",
    "from sklearn import linear_model\n",
    "from matplotlib import pyplot as plt\n",
    "%matplotlib inline"
   ]
  },
  {
   "cell_type": "markdown",
   "id": "42285c9f",
   "metadata": {},
   "source": [
    "# Step 1: Reading the data"
   ]
  },
  {
   "cell_type": "code",
   "execution_count": 4,
   "id": "36c03b0e",
   "metadata": {},
   "outputs": [],
   "source": [
    "df = pd.read_csv(\"canada_per_catpita_income.csv\")"
   ]
  },
  {
   "cell_type": "code",
   "execution_count": 5,
   "id": "f0d07078",
   "metadata": {},
   "outputs": [
    {
     "name": "stdout",
     "output_type": "stream",
     "text": [
      "    year  per capita income (US$)\n",
      "0   1970              3399.299037\n",
      "1   1971              3768.297935\n",
      "2   1972              4251.175484\n",
      "3   1973              4804.463248\n",
      "4   1974              5576.514583\n",
      "5   1975              5998.144346\n",
      "6   1976              7062.131392\n",
      "7   1977              7100.126170\n",
      "8   1978              7247.967035\n",
      "9   1979              7602.912681\n",
      "10  1980              8355.968120\n",
      "11  1981              9434.390652\n",
      "12  1982              9619.438377\n",
      "13  1983             10416.536590\n",
      "14  1984             10790.328720\n",
      "15  1985             11018.955850\n",
      "16  1986             11482.891530\n",
      "17  1987             12974.806620\n",
      "18  1988             15080.283450\n",
      "19  1989             16426.725480\n",
      "20  1990             16838.673200\n",
      "21  1991             17266.097690\n",
      "22  1992             16412.083090\n",
      "23  1993             15875.586730\n",
      "24  1994             15755.820270\n",
      "25  1995             16369.317250\n",
      "26  1996             16699.826680\n",
      "27  1997             17310.757750\n",
      "28  1998             16622.671870\n",
      "29  1999             17581.024140\n",
      "30  2000             18987.382410\n",
      "31  2001             18601.397240\n",
      "32  2002             19232.175560\n",
      "33  2003             22739.426280\n",
      "34  2004             25719.147150\n",
      "35  2005             29198.055690\n",
      "36  2006             32738.262900\n",
      "37  2007             36144.481220\n",
      "38  2008             37446.486090\n",
      "39  2009             32755.176820\n",
      "40  2010             38420.522890\n",
      "41  2011             42334.711210\n",
      "42  2012             42665.255970\n",
      "43  2013             42676.468370\n",
      "44  2014             41039.893600\n",
      "45  2015             35175.188980\n",
      "46  2016             34229.193630\n"
     ]
    }
   ],
   "source": [
    "print(df)"
   ]
  },
  {
   "cell_type": "markdown",
   "id": "c8f950c3",
   "metadata": {},
   "source": [
    "# Step 2: Isolate dependent and independent from each other"
   ]
  },
  {
   "cell_type": "code",
   "execution_count": 8,
   "id": "a5a89ffe",
   "metadata": {},
   "outputs": [],
   "source": [
    "year1d = df.iloc[:,0].to_numpy()"
   ]
  },
  {
   "cell_type": "code",
   "execution_count": 10,
   "id": "697f2b7c",
   "metadata": {},
   "outputs": [],
   "source": [
    "year = year1d.reshape(47,1)"
   ]
  },
  {
   "cell_type": "code",
   "execution_count": 12,
   "id": "fe40524a",
   "metadata": {},
   "outputs": [],
   "source": [
    "income1d = df.iloc[:,1].to_numpy()"
   ]
  },
  {
   "cell_type": "markdown",
   "id": "f4e34d0b",
   "metadata": {},
   "source": [
    "# Step 3: Convert them into 2d array coz fit and predict accepts only 2d array"
   ]
  },
  {
   "cell_type": "code",
   "execution_count": 13,
   "id": "308332b9",
   "metadata": {},
   "outputs": [],
   "source": [
    "income = income1d.reshape(47,1)"
   ]
  },
  {
   "cell_type": "code",
   "execution_count": 15,
   "id": "42652d6c",
   "metadata": {},
   "outputs": [],
   "source": [
    "model = linear_model.LinearRegression()"
   ]
  },
  {
   "cell_type": "markdown",
   "id": "aeb0cc46",
   "metadata": {},
   "source": [
    "# Step 4: Fitting the data for training"
   ]
  },
  {
   "cell_type": "code",
   "execution_count": 16,
   "id": "bb4f6c2a",
   "metadata": {},
   "outputs": [
    {
     "data": {
      "text/plain": [
       "LinearRegression()"
      ]
     },
     "execution_count": 16,
     "metadata": {},
     "output_type": "execute_result"
    }
   ],
   "source": [
    "model.fit(year,income)"
   ]
  },
  {
   "cell_type": "markdown",
   "id": "0c4c5602",
   "metadata": {},
   "source": [
    "# Step 5: Prediction "
   ]
  },
  {
   "cell_type": "code",
   "execution_count": 24,
   "id": "b03e33da",
   "metadata": {},
   "outputs": [
    {
     "name": "stdout",
     "output_type": "stream",
     "text": [
      "[[41288.69409442]]\n"
     ]
    }
   ],
   "source": [
    "print(model.predict([[2020]]))"
   ]
  },
  {
   "cell_type": "markdown",
   "id": "26c42887",
   "metadata": {},
   "source": [
    "# Optional: Checking accuracy with the help of MSE"
   ]
  },
  {
   "cell_type": "code",
   "execution_count": 19,
   "id": "f6217f3e",
   "metadata": {},
   "outputs": [],
   "source": [
    "from sklearn.metrics import mean_squared_error"
   ]
  },
  {
   "cell_type": "code",
   "execution_count": 26,
   "id": "181197cb",
   "metadata": {},
   "outputs": [],
   "source": [
    "incomepred = model.predict(year)"
   ]
  },
  {
   "cell_type": "code",
   "execution_count": 22,
   "id": "7bcca573",
   "metadata": {},
   "outputs": [
    {
     "name": "stdout",
     "output_type": "stream",
     "text": [
      "[[ -134.55966672]\n",
      " [  693.9054085 ]\n",
      " [ 1522.37048373]\n",
      " [ 2350.83555895]\n",
      " [ 3179.30063417]\n",
      " [ 4007.7657094 ]\n",
      " [ 4836.23078462]\n",
      " [ 5664.69585984]\n",
      " [ 6493.16093506]\n",
      " [ 7321.62601029]\n",
      " [ 8150.09108551]\n",
      " [ 8978.55616073]\n",
      " [ 9807.02123595]\n",
      " [10635.48631118]\n",
      " [11463.9513864 ]\n",
      " [12292.41646162]\n",
      " [13120.88153685]\n",
      " [13949.34661207]\n",
      " [14777.81168729]\n",
      " [15606.27676251]\n",
      " [16434.74183774]\n",
      " [17263.20691296]\n",
      " [18091.67198818]\n",
      " [18920.1370634 ]\n",
      " [19748.60213863]\n",
      " [20577.06721385]\n",
      " [21405.53228907]\n",
      " [22233.9973643 ]\n",
      " [23062.46243952]\n",
      " [23890.92751474]\n",
      " [24719.39258996]\n",
      " [25547.85766519]\n",
      " [26376.32274041]\n",
      " [27204.78781563]\n",
      " [28033.25289085]\n",
      " [28861.71796608]\n",
      " [29690.1830413 ]\n",
      " [30518.64811652]\n",
      " [31347.11319175]\n",
      " [32175.57826697]\n",
      " [33004.04334219]\n",
      " [33832.50841741]\n",
      " [34660.97349264]\n",
      " [35489.43856786]\n",
      " [36317.90364308]\n",
      " [37146.3687183 ]\n",
      " [37974.83379353]]\n"
     ]
    }
   ],
   "source": [
    "print(incomepred)"
   ]
  },
  {
   "cell_type": "code",
   "execution_count": 28,
   "id": "042a7411",
   "metadata": {},
   "outputs": [
    {
     "name": "stdout",
     "output_type": "stream",
     "text": [
      "15462739.061504772\n"
     ]
    }
   ],
   "source": [
    "print(mean_squared_error(income,incomepred))"
   ]
  },
  {
   "cell_type": "code",
   "execution_count": null,
   "id": "48e20c0f",
   "metadata": {},
   "outputs": [],
   "source": []
  }
 ],
 "metadata": {
  "kernelspec": {
   "display_name": "Python 3 (ipykernel)",
   "language": "python",
   "name": "python3"
  },
  "language_info": {
   "codemirror_mode": {
    "name": "ipython",
    "version": 3
   },
   "file_extension": ".py",
   "mimetype": "text/x-python",
   "name": "python",
   "nbconvert_exporter": "python",
   "pygments_lexer": "ipython3",
   "version": "3.10.0"
  }
 },
 "nbformat": 4,
 "nbformat_minor": 5
}
