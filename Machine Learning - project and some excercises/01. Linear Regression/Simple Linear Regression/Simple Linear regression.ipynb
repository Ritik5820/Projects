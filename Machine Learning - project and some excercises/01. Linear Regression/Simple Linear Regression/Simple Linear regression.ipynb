{
 "cells": [
  {
   "cell_type": "code",
   "execution_count": 1,
   "id": "e6dfa5d6",
   "metadata": {},
   "outputs": [],
   "source": [
    "import pandas as pd\n",
    "from sklearn import linear_model\n",
    "from matplotlib import pyplot as plt\n",
    "%matplotlib inline"
   ]
  },
  {
   "cell_type": "code",
   "execution_count": 2,
   "id": "d1968dc1",
   "metadata": {},
   "outputs": [],
   "source": [
    "df = pd.read_excel(\"homeprices.xlsx\")"
   ]
  },
  {
   "cell_type": "code",
   "execution_count": 3,
   "id": "d4112c7a",
   "metadata": {},
   "outputs": [
    {
     "name": "stdout",
     "output_type": "stream",
     "text": [
      "   area   price\n",
      "0  2600  550000\n",
      "1  3000  565000\n",
      "2  3200  610000\n",
      "3  3600  680000\n",
      "4  4000  725000\n"
     ]
    }
   ],
   "source": [
    "print(df)"
   ]
  },
  {
   "cell_type": "code",
   "execution_count": 4,
   "id": "c207be8a",
   "metadata": {},
   "outputs": [],
   "source": [
    "area1d = df[\"area\"].to_numpy()"
   ]
  },
  {
   "cell_type": "code",
   "execution_count": 5,
   "id": "6bf61317",
   "metadata": {},
   "outputs": [],
   "source": [
    "area = area1d.reshape(5,1)"
   ]
  },
  {
   "cell_type": "code",
   "execution_count": 6,
   "id": "935de017",
   "metadata": {},
   "outputs": [],
   "source": [
    "price1d = df[\"price\"].to_numpy()"
   ]
  },
  {
   "cell_type": "code",
   "execution_count": 7,
   "id": "f60f26a0",
   "metadata": {},
   "outputs": [],
   "source": [
    "price = price1d.reshape(5,1)"
   ]
  },
  {
   "cell_type": "code",
   "execution_count": 8,
   "id": "7c297328",
   "metadata": {},
   "outputs": [
    {
     "name": "stdout",
     "output_type": "stream",
     "text": [
      "<matplotlib.collections.PathCollection object at 0x000001B26E24C640>\n"
     ]
    },
    {
     "data": {
      "image/png": "[encoded data removed]",
      "text/plain": [
       "<Figure size 432x288 with 1 Axes>"
      ]
     },
     "metadata": {
      "needs_background": "light"
     },
     "output_type": "display_data"
    }
   ],
   "source": [
    "print(plt.scatter(area,price,color=\"red\"))"
   ]
  },
  {
   "cell_type": "code",
   "execution_count": 9,
   "id": "65b0bfb9",
   "metadata": {},
   "outputs": [],
   "source": [
    "model = linear_model.LinearRegression()\n"
   ]
  },
  {
   "cell_type": "code",
   "execution_count": 10,
   "id": "8725bf90",
   "metadata": {},
   "outputs": [
    {
     "data": {
      "text/plain": [
       "LinearRegression()"
      ]
     },
     "execution_count": 10,
     "metadata": {},
     "output_type": "execute_result"
    }
   ],
   "source": [
    "model.fit(area,price)"
   ]
  },
  {
   "cell_type": "code",
   "execution_count": 11,
   "id": "6664e73a",
   "metadata": {},
   "outputs": [
    {
     "name": "stdout",
     "output_type": "stream",
     "text": [
      "[[533664.38356164]\n",
      " [587979.45205479]\n",
      " [615136.98630137]\n",
      " [669452.05479452]\n",
      " [723767.12328767]]\n"
     ]
    }
   ],
   "source": [
    "print(model.predict(area))"
   ]
  },
  {
   "cell_type": "code",
   "execution_count": 12,
   "id": "398f7d6e",
   "metadata": {},
   "outputs": [],
   "source": [
    "df[\"predictedprice\"] = model.predict(area)"
   ]
  },
  {
   "cell_type": "code",
   "execution_count": 13,
   "id": "5569b6fd",
   "metadata": {},
   "outputs": [
    {
     "name": "stdout",
     "output_type": "stream",
     "text": [
      "   area   price  predictedprice\n",
      "0  2600  550000   533664.383562\n",
      "1  3000  565000   587979.452055\n",
      "2  3200  610000   615136.986301\n",
      "3  3600  680000   669452.054795\n",
      "4  4000  725000   723767.123288\n"
     ]
    }
   ],
   "source": [
    "print(df)"
   ]
  },
  {
   "cell_type": "code",
   "execution_count": 14,
   "id": "b3575624",
   "metadata": {},
   "outputs": [],
   "source": [
    "from sklearn.metrics import mean_squared_error "
   ]
  },
  {
   "cell_type": "code",
   "execution_count": 15,
   "id": "28f97181",
   "metadata": {},
   "outputs": [
    {
     "name": "stdout",
     "output_type": "stream",
     "text": [
      "186815068.4931509\n"
     ]
    }
   ],
   "source": [
    "print(mean_squared_error(df.price,df.predictedprice))"
   ]
  },
  {
   "cell_type": "code",
   "execution_count": 16,
   "id": "3caed95d",
   "metadata": {},
   "outputs": [
    {
     "name": "stdout",
     "output_type": "stream",
     "text": [
      "[[492928.08219178]]\n"
     ]
    }
   ],
   "source": [
    "print(model.predict([[2300]]))"
   ]
  },
  {
   "cell_type": "code",
   "execution_count": null,
   "id": "41cd75b4",
   "metadata": {},
   "outputs": [],
   "source": []
  }
 ],
 "metadata": {
  "kernelspec": {
   "display_name": "Python 3 (ipykernel)",
   "language": "python",
   "name": "python3"
  },
  "language_info": {
   "codemirror_mode": {
    "name": "ipython",
    "version": 3
   },
   "file_extension": ".py",
   "mimetype": "text/x-python",
   "name": "python",
   "nbconvert_exporter": "python",
   "pygments_lexer": "ipython3",
   "version": "3.10.0"
  }
 },
 "nbformat": 4,
 "nbformat_minor": 5
}
